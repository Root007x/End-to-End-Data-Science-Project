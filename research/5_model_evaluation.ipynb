{
 "cells": [
  {
   "cell_type": "code",
   "execution_count": 1,
   "id": "0a64236d",
   "metadata": {},
   "outputs": [],
   "source": [
    "import os"
   ]
  },
  {
   "cell_type": "code",
   "execution_count": 2,
   "id": "defcc4cd",
   "metadata": {},
   "outputs": [],
   "source": [
    "os.environ[\"MLFLOW_TRACKING_URI\"] = \"https://dagshub.com/Root007x/data_science_project.mlflow\"\n",
    "os.environ[\"MLFLOW_TRACKING_USERNAME\"] = \"Root007x\"\n",
    "os.environ[\"MLFLOW_TRACKING_PASSWORD\"] = \"f609507313312db73d17bae15646bf188d6f93e5\""
   ]
  },
  {
   "cell_type": "code",
   "execution_count": 3,
   "id": "69a25e8f",
   "metadata": {},
   "outputs": [
    {
     "data": {
      "text/plain": [
       "'c:\\\\Users\\\\ROOT\\\\Desktop\\\\mlops_projects\\\\data_science_project\\\\research'"
      ]
     },
     "execution_count": 3,
     "metadata": {},
     "output_type": "execute_result"
    }
   ],
   "source": [
    "%pwd"
   ]
  },
  {
   "cell_type": "code",
   "execution_count": 4,
   "id": "32bd35fe",
   "metadata": {},
   "outputs": [],
   "source": [
    "os.chdir(\"../\")"
   ]
  },
  {
   "cell_type": "code",
   "execution_count": 5,
   "id": "44db8316",
   "metadata": {},
   "outputs": [
    {
     "data": {
      "text/plain": [
       "'c:\\\\Users\\\\ROOT\\\\Desktop\\\\mlops_projects\\\\data_science_project'"
      ]
     },
     "execution_count": 5,
     "metadata": {},
     "output_type": "execute_result"
    }
   ],
   "source": [
    "%pwd"
   ]
  },
  {
   "cell_type": "code",
   "execution_count": 6,
   "id": "16cda0b2",
   "metadata": {},
   "outputs": [
    {
     "name": "stdout",
     "output_type": "stream",
     "text": [
      " Volume in drive C has no label.\n",
      " Volume Serial Number is 3C50-BC77\n",
      "\n",
      " Directory of c:\\Users\\ROOT\\Desktop\\mlops_projects\\data_science_project\n",
      "\n",
      "05/20/2025  09:21 AM    <DIR>          .\n",
      "05/20/2025  09:21 AM    <DIR>          ..\n",
      "05/20/2025  06:33 AM    <DIR>          .github\n",
      "05/20/2025  09:00 AM                24 .gitignore\n",
      "05/21/2025  03:17 AM    <DIR>          artifacts\n",
      "05/20/2025  06:33 AM    <DIR>          config\n",
      "05/20/2025  06:36 AM                 0 DockerFile\n",
      "05/20/2025  06:02 AM            35,823 LICENSE\n",
      "05/20/2025  08:25 AM    <DIR>          logs\n",
      "05/21/2025  02:37 AM             1,854 main.py\n",
      "05/21/2025  01:12 AM                42 params.yaml\n",
      "05/21/2025  12:17 AM               399 README.md\n",
      "05/20/2025  06:11 AM               132 requirements.txt\n",
      "05/21/2025  02:43 AM    <DIR>          research\n",
      "05/20/2025  04:19 PM               333 schema.yaml\n",
      "05/20/2025  06:36 AM                 0 setup.py\n",
      "05/20/2025  06:33 AM    <DIR>          src\n",
      "05/20/2025  09:07 AM             1,452 template.py\n",
      "05/20/2025  06:33 AM    <DIR>          templates\n",
      "05/20/2025  06:08 AM    <DIR>          venv\n",
      "              10 File(s)         40,059 bytes\n",
      "              10 Dir(s)  75,039,461,376 bytes free\n"
     ]
    },
    {
     "name": "stderr",
     "output_type": "stream",
     "text": [
      "'DOSKEY' is not recognized as an internal or external command,\n",
      "operable program or batch file.\n"
     ]
    }
   ],
   "source": [
    "%ls"
   ]
  },
  {
   "cell_type": "code",
   "execution_count": 7,
   "id": "5beae60c",
   "metadata": {},
   "outputs": [],
   "source": [
    "from dataclasses import dataclass\n",
    "from pathlib import Path\n",
    "\n",
    "@dataclass\n",
    "class ModelEvaluationConfig:\n",
    "    root_dir: Path\n",
    "    test_data_path: Path\n",
    "    model_path: str\n",
    "    all_params: dict\n",
    "    metric_file_name: Path\n",
    "    target_column: str\n",
    "    mlflow_uri: str"
   ]
  },
  {
   "cell_type": "code",
   "execution_count": 8,
   "id": "67abaefb",
   "metadata": {},
   "outputs": [],
   "source": [
    "from src.datascience.constants import *\n",
    "from src.datascience.utils.common import read_yaml, create_directories, save_json"
   ]
  },
  {
   "cell_type": "code",
   "execution_count": 9,
   "id": "c5a5adca",
   "metadata": {},
   "outputs": [],
   "source": [
    "class ConfigurationManager:\n",
    "    def __init__(self,\n",
    "                config_file_path=CONFIG_FILE_PATH,\n",
    "                params_file_path=PARAMS_FILE_PATH,\n",
    "                schema_file_path=SCHEMA_FILE_PATH):\n",
    "        \n",
    "        self.config = read_yaml(config_file_path)\n",
    "        self.params = read_yaml(params_file_path)\n",
    "        self.schema = read_yaml(schema_file_path)\n",
    "\n",
    "        create_directories([self.config.artifacts_root])\n",
    "\n",
    "    def get_model_evaluation_config(self) -> ModelEvaluationConfig:\n",
    "        config = self.config.model_evaluation\n",
    "        params = self.params.ElasticNet\n",
    "        schema = self.schema.TARGET_COLUMN\n",
    "\n",
    "        create_directories([config.root_dir])\n",
    "\n",
    "        model_evaluation_config = ModelEvaluationConfig(\n",
    "            root_dir=config.root_dir,\n",
    "            test_data_path=config.test_data_path,\n",
    "            model_path=config.model_path,\n",
    "            all_params=params,\n",
    "            metric_file_name=config.metric_file_name,\n",
    "            target_column=schema.name,\n",
    "            mlflow_uri= os.environ.get(\"MLFLOW_TRACKING_URI\")\n",
    "\n",
    "        )\n",
    "        return model_evaluation_config"
   ]
  },
  {
   "cell_type": "code",
   "execution_count": 10,
   "id": "aeeea229",
   "metadata": {},
   "outputs": [],
   "source": [
    "import os\n",
    "import pandas as pd \n",
    "from sklearn.metrics import mean_absolute_error, mean_squared_error, r2_score\n",
    "from urllib.parse import urlparse\n",
    "import mlflow\n",
    "import mlflow.sklearn\n",
    "import numpy as np \n",
    "import joblib"
   ]
  },
  {
   "cell_type": "code",
   "execution_count": 13,
   "id": "712880e7",
   "metadata": {},
   "outputs": [],
   "source": [
    "class ModelEvaluation:\n",
    "    def __init__(self, config: ModelEvaluationConfig):\n",
    "        self.config = config\n",
    "\n",
    "    def eval_metrics(self, actual,pred):\n",
    "        rmse = np.sqrt(mean_squared_error(actual,pred))\n",
    "        mae = mean_absolute_error(actual, pred)\n",
    "        r2 = r2_score(actual, pred)\n",
    "        return rmse, mae, r2\n",
    "    \n",
    "    def log_into_mlflow(self):\n",
    "        test_data = pd.read_csv(self.config.test_data_path)\n",
    "        model = joblib.load(self.config.model_path)\n",
    "\n",
    "        test_X = test_data.drop(columns=[self.config.target_column], axis = 1)\n",
    "        test_y = test_data[[self.config.target_column]]\n",
    "\n",
    "        mlflow.set_tracking_uri(self.config.mlflow_uri)\n",
    "        tracking_url_type_store = urlparse(mlflow.get_tracking_uri()).scheme\n",
    "\n",
    "        # Start\n",
    "        with mlflow.start_run():\n",
    "            predicted_qualities = model.predict(test_X)\n",
    "\n",
    "            (rmse, mae, r2) = self.eval_metrics(test_y, predicted_qualities)\n",
    "\n",
    "            scores = {\n",
    "                \"rmse\": rmse,\n",
    "                \"mae\": mae,\n",
    "                \"r2\": r2\n",
    "            }\n",
    "            # Save result as json format\n",
    "            save_json(Path(self.config.metric_file_name), data=scores)\n",
    "\n",
    "            mlflow.log_params(self.config.all_params)\n",
    "            mlflow.log_metric(\"rmse\", rmse)\n",
    "            mlflow.log_metric(\"mae\", mae)\n",
    "            mlflow.log_metric(\"r2\", r2)\n",
    "\n",
    "            if tracking_url_type_store != \"file\":\n",
    "                mlflow.sklearn.log_model(model, \"model\", registered_model_name=\"ElasticnetModel\")\n",
    "            else:\n",
    "                mlflow.sklearn.log_model(model,\"model\")"
   ]
  },
  {
   "cell_type": "code",
   "execution_count": 14,
   "id": "aea878f4",
   "metadata": {},
   "outputs": [
    {
     "name": "stdout",
     "output_type": "stream",
     "text": [
      "[2025-05-21 03:36:47,066: INFO: common: Yaml File: config\\config.yaml loaded successfully]\n",
      "[2025-05-21 03:36:47,069: INFO: common: Yaml File: params.yaml loaded successfully]\n",
      "[2025-05-21 03:36:47,073: INFO: common: Yaml File: schema.yaml loaded successfully]\n",
      "[2025-05-21 03:36:47,074: INFO: common: Created Directory at: artifacts]\n",
      "[2025-05-21 03:36:47,076: INFO: common: Created Directory at: artifacts/model_evaluation]\n",
      "[2025-05-21 03:36:47,442: INFO: common: Json File saved at: artifacts\\model_evaluation\\metrics.json]\n"
     ]
    },
    {
     "name": "stderr",
     "output_type": "stream",
     "text": [
      "2025/05/21 03:36:59 WARNING mlflow.models.model: Model logged without a signature and input example. Please set `input_example` parameter when logging the model to auto infer the model signature.\n",
      "Successfully registered model 'ElasticnetModel'.\n",
      "2025/05/21 03:37:04 INFO mlflow.store.model_registry.abstract_store: Waiting up to 300 seconds for model version to finish creation. Model name: ElasticnetModel, version 1\n",
      "Created version '1' of model 'ElasticnetModel'.\n"
     ]
    },
    {
     "name": "stdout",
     "output_type": "stream",
     "text": [
      "🏃 View run illustrious-rat-227 at: https://dagshub.com/Root007x/data_science_project.mlflow/#/experiments/0/runs/fb17dbd543e24609a43ca21eaab87704\n",
      "🧪 View experiment at: https://dagshub.com/Root007x/data_science_project.mlflow/#/experiments/0\n"
     ]
    }
   ],
   "source": [
    "try:\n",
    "    config = ConfigurationManager()\n",
    "    model_eval_config = config.get_model_evaluation_config()\n",
    "    model_eval = ModelEvaluation(config=model_eval_config)\n",
    "    model_eval.log_into_mlflow()\n",
    "except Exception as e:\n",
    "    raise e"
   ]
  },
  {
   "cell_type": "code",
   "execution_count": null,
   "id": "e3846c59",
   "metadata": {},
   "outputs": [],
   "source": []
  }
 ],
 "metadata": {
  "kernelspec": {
   "display_name": "Python 3",
   "language": "python",
   "name": "python3"
  },
  "language_info": {
   "codemirror_mode": {
    "name": "ipython",
    "version": 3
   },
   "file_extension": ".py",
   "mimetype": "text/x-python",
   "name": "python",
   "nbconvert_exporter": "python",
   "pygments_lexer": "ipython3",
   "version": "3.10.0"
  }
 },
 "nbformat": 4,
 "nbformat_minor": 5
}
