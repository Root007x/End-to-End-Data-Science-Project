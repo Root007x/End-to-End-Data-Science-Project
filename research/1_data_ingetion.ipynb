{
 "cells": [
  {
   "cell_type": "code",
   "execution_count": 1,
   "id": "45909fc0",
   "metadata": {},
   "outputs": [],
   "source": [
    "import os"
   ]
  },
  {
   "cell_type": "code",
   "execution_count": 2,
   "id": "2836659e",
   "metadata": {},
   "outputs": [
    {
     "data": {
      "text/plain": [
       "'c:\\\\Users\\\\ROOT\\\\Desktop\\\\mlops_projects\\\\data_science_project\\\\research'"
      ]
     },
     "execution_count": 2,
     "metadata": {},
     "output_type": "execute_result"
    }
   ],
   "source": [
    "%pwd"
   ]
  },
  {
   "cell_type": "code",
   "execution_count": 3,
   "id": "edfc0a5a",
   "metadata": {},
   "outputs": [],
   "source": [
    "os.chdir(\"../\")"
   ]
  },
  {
   "cell_type": "code",
   "execution_count": 4,
   "id": "037aa443",
   "metadata": {},
   "outputs": [
    {
     "data": {
      "text/plain": [
       "'c:\\\\Users\\\\ROOT\\\\Desktop\\\\mlops_projects\\\\data_science_project'"
      ]
     },
     "execution_count": 4,
     "metadata": {},
     "output_type": "execute_result"
    }
   ],
   "source": [
    "%pwd"
   ]
  },
  {
   "cell_type": "code",
   "execution_count": 5,
   "id": "344f9fc8",
   "metadata": {},
   "outputs": [
    {
     "name": "stdout",
     "output_type": "stream",
     "text": [
      " Volume in drive C has no label.\n",
      " Volume Serial Number is 3C50-BC77\n",
      "\n",
      " Directory of c:\\Users\\ROOT\\Desktop\\mlops_projects\\data_science_project\n",
      "\n",
      "05/20/2025  06:55 AM    <DIR>          .\n",
      "05/20/2025  06:55 AM    <DIR>          ..\n",
      "05/20/2025  06:33 AM    <DIR>          .github\n",
      "05/20/2025  06:04 AM                 5 .gitignore\n",
      "05/20/2025  06:33 AM    <DIR>          config\n",
      "05/20/2025  06:36 AM                 0 DockerFile\n",
      "05/20/2025  06:02 AM            35,823 LICENSE\n",
      "05/20/2025  06:49 AM                95 main.py\n",
      "05/20/2025  06:36 AM                 0 params.yaml\n",
      "05/20/2025  08:06 AM               393 README.md\n",
      "05/20/2025  06:11 AM               132 requirements.txt\n",
      "05/20/2025  08:08 AM    <DIR>          research\n",
      "05/20/2025  06:36 AM                 0 schema.yaml\n",
      "05/20/2025  06:36 AM                 0 setup.py\n",
      "05/20/2025  06:33 AM    <DIR>          src\n",
      "05/20/2025  06:40 AM             1,456 template.py\n",
      "05/20/2025  06:33 AM    <DIR>          templates\n",
      "05/20/2025  06:08 AM    <DIR>          venv\n",
      "              10 File(s)         37,904 bytes\n",
      "               8 Dir(s)  86,923,120,640 bytes free\n"
     ]
    }
   ],
   "source": [
    "%ls"
   ]
  },
  {
   "cell_type": "code",
   "execution_count": 6,
   "id": "2961c782",
   "metadata": {},
   "outputs": [],
   "source": [
    "from dataclasses import dataclass\n",
    "from pathlib import Path\n",
    "\n",
    "@dataclass\n",
    "class DataIngestionconfig:\n",
    "    root_dir: Path\n",
    "    source_url: str\n",
    "    local_data_file: Path\n",
    "    unzip_dir: Path"
   ]
  },
  {
   "cell_type": "code",
   "execution_count": 7,
   "id": "64820f73",
   "metadata": {},
   "outputs": [],
   "source": [
    "from src.datascience.constants import *\n",
    "from src.datascience.utils.common import read_yaml, create_directories"
   ]
  },
  {
   "cell_type": "code",
   "execution_count": 16,
   "id": "6f9dc841",
   "metadata": {},
   "outputs": [],
   "source": [
    "class ConfigurationManager:\n",
    "    def __init__(self,\n",
    "                 config_file_path = CONFIG_FILE_PATH,\n",
    "                 params_file_path = PARAMS_FILE_PATH,\n",
    "                 schema_file_path = SCHEMA_FILE_PATH):\n",
    "        self.config = read_yaml(config_file_path)\n",
    "        self.params = read_yaml(params_file_path)\n",
    "        self.schema = read_yaml(schema_file_path)\n",
    "\n",
    "\n",
    "        create_directories([self.config.artifacts_root])\n",
    "\n",
    "    def get_data_ingestion_config(self) -> DataIngestionconfig:\n",
    "        config = self.config.data_ingetion\n",
    "        create_directories([config.root_dir])\n",
    "\n",
    "        data_ingestion_config = DataIngestionconfig(\n",
    "            root_dir = config.root_dir,\n",
    "            source_url = config.source_URL,\n",
    "            local_data_file=config.local_data_file,\n",
    "            unzip_dir = config.unzip_dir\n",
    "        )\n",
    "\n",
    "        return data_ingestion_config"
   ]
  },
  {
   "cell_type": "code",
   "execution_count": 17,
   "id": "45a9666a",
   "metadata": {},
   "outputs": [],
   "source": [
    "import os\n",
    "import urllib.request as request\n",
    "from src.datascience import logger\n",
    "import zipfile"
   ]
  },
  {
   "cell_type": "code",
   "execution_count": 22,
   "id": "8188bf2d",
   "metadata": {},
   "outputs": [],
   "source": [
    "## Components-Data Ingestion\n",
    "class DataIngestion:\n",
    "    def __init__(self, config:DataIngestionconfig):\n",
    "        self.config = config\n",
    "\n",
    "    # Downloading the zip file\n",
    "    def download_file(self):\n",
    "        if not os.path.exists(self.config.local_data_file):\n",
    "            filename, headers = request.urlretrieve(\n",
    "                url = self.config.source_url,\n",
    "                filename = self.config.local_data_file\n",
    "            )\n",
    "            logger.info(f\"{filename} download! with following info: \\n{headers}\")\n",
    "        else:\n",
    "            logger.info(f\"File already exists\")\n",
    "\n",
    "    def extract_zip_file(self):\n",
    "        unzip_path = self.config.unzip_dir\n",
    "        os.makedirs(unzip_path, exist_ok=True)\n",
    "        with zipfile.ZipFile(self.config.local_data_file, \"r\") as zip_ref:\n",
    "            zip_ref.extractall(unzip_path)        "
   ]
  },
  {
   "cell_type": "code",
   "execution_count": 23,
   "id": "43fb7dce",
   "metadata": {},
   "outputs": [
    {
     "name": "stdout",
     "output_type": "stream",
     "text": [
      "[2025-05-20 08:59:00,107: INFO: common: Yaml File: config\\config.yaml loaded successfully]\n",
      "[2025-05-20 08:59:00,110: INFO: common: Yaml File: params.yaml loaded successfully]\n",
      "[2025-05-20 08:59:00,112: INFO: common: Yaml File: schema.yaml loaded successfully]\n",
      "[2025-05-20 08:59:00,113: INFO: common: Created Directory at: artifacts]\n",
      "[2025-05-20 08:59:00,115: INFO: common: Created Directory at: artifacts/data_ingestion]\n",
      "[2025-05-20 08:59:01,180: INFO: 1618756832: artifacts/data_ingestion/data.zip download! with following info: \n",
      "Connection: close\n",
      "Content-Length: 23329\n",
      "Cache-Control: max-age=300\n",
      "Content-Security-Policy: default-src 'none'; style-src 'unsafe-inline'; sandbox\n",
      "Content-Type: application/zip\n",
      "ETag: \"c69888a4ae59bc5a893392785a938ccd4937981c06ba8a9d6a21aa52b4ab5b6e\"\n",
      "Strict-Transport-Security: max-age=31536000\n",
      "X-Content-Type-Options: nosniff\n",
      "X-Frame-Options: deny\n",
      "X-XSS-Protection: 1; mode=block\n",
      "X-GitHub-Request-Id: 3535:194D25:12C36F:30E0FA:682BEFF5\n",
      "Accept-Ranges: bytes\n",
      "Date: Tue, 20 May 2025 02:59:01 GMT\n",
      "Via: 1.1 varnish\n",
      "X-Served-By: cache-sin-wsss1830077-SIN\n",
      "X-Cache: MISS\n",
      "X-Cache-Hits: 0\n",
      "X-Timer: S1747709941.490647,VS0,VE313\n",
      "Vary: Authorization,Accept-Encoding,Origin\n",
      "Access-Control-Allow-Origin: *\n",
      "Cross-Origin-Resource-Policy: cross-origin\n",
      "X-Fastly-Request-ID: d1aa9af65ecd4ad8a56ceab102dcebe07926a3ae\n",
      "Expires: Tue, 20 May 2025 03:04:01 GMT\n",
      "Source-Age: 0\n",
      "\n",
      "]\n"
     ]
    }
   ],
   "source": [
    "try:\n",
    "    config = ConfigurationManager()\n",
    "    data_ingestion_config = config.get_data_ingestion_config()\n",
    "    data_ingestion = DataIngestion(config=data_ingestion_config)\n",
    "    data_ingestion.download_file()\n",
    "    data_ingestion.extract_zip_file()\n",
    "except Exception as e:\n",
    "    raise e"
   ]
  },
  {
   "cell_type": "code",
   "execution_count": null,
   "id": "b69e7669",
   "metadata": {},
   "outputs": [],
   "source": []
  }
 ],
 "metadata": {
  "kernelspec": {
   "display_name": "Python 3",
   "language": "python",
   "name": "python3"
  },
  "language_info": {
   "codemirror_mode": {
    "name": "ipython",
    "version": 3
   },
   "file_extension": ".py",
   "mimetype": "text/x-python",
   "name": "python",
   "nbconvert_exporter": "python",
   "pygments_lexer": "ipython3",
   "version": "3.10.0"
  }
 },
 "nbformat": 4,
 "nbformat_minor": 5
}
