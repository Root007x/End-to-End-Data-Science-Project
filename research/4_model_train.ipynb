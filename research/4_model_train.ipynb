{
 "cells": [
  {
   "cell_type": "code",
   "execution_count": 1,
   "id": "79bd4c29",
   "metadata": {},
   "outputs": [],
   "source": [
    "import os"
   ]
  },
  {
   "cell_type": "code",
   "execution_count": 2,
   "id": "fa5d3940",
   "metadata": {},
   "outputs": [
    {
     "data": {
      "text/plain": [
       "'c:\\\\Users\\\\ROOT\\\\Desktop\\\\mlops_projects\\\\data_science_project\\\\research'"
      ]
     },
     "execution_count": 2,
     "metadata": {},
     "output_type": "execute_result"
    }
   ],
   "source": [
    "%pwd"
   ]
  },
  {
   "cell_type": "code",
   "execution_count": 3,
   "id": "6d703a6a",
   "metadata": {},
   "outputs": [],
   "source": [
    "os.chdir(\"../\")"
   ]
  },
  {
   "cell_type": "code",
   "execution_count": 4,
   "id": "bf0ae912",
   "metadata": {},
   "outputs": [
    {
     "name": "stdout",
     "output_type": "stream",
     "text": [
      " Volume in drive C has no label.\n",
      " Volume Serial Number is 3C50-BC77\n",
      "\n",
      " Directory of c:\\Users\\ROOT\\Desktop\\mlops_projects\\data_science_project\n",
      "\n",
      "05/20/2025  09:21 AM    <DIR>          .\n",
      "05/20/2025  09:21 AM    <DIR>          ..\n",
      "05/20/2025  06:33 AM    <DIR>          .github\n",
      "05/20/2025  09:00 AM                24 .gitignore\n",
      "05/21/2025  01:03 AM    <DIR>          artifacts\n",
      "05/20/2025  06:33 AM    <DIR>          config\n",
      "05/20/2025  06:36 AM                 0 DockerFile\n",
      "05/20/2025  06:02 AM            35,823 LICENSE\n",
      "05/20/2025  08:25 AM    <DIR>          logs\n",
      "05/21/2025  12:55 AM             1,435 main.py\n",
      "05/20/2025  08:56 AM                11 params.yaml\n",
      "05/21/2025  12:17 AM               399 README.md\n",
      "05/20/2025  06:11 AM               132 requirements.txt\n",
      "05/21/2025  01:05 AM    <DIR>          research\n",
      "05/20/2025  04:19 PM               333 schema.yaml\n",
      "05/20/2025  06:36 AM                 0 setup.py\n",
      "05/20/2025  06:33 AM    <DIR>          src\n",
      "05/20/2025  09:07 AM             1,452 template.py\n",
      "05/20/2025  06:33 AM    <DIR>          templates\n",
      "05/20/2025  06:08 AM    <DIR>          venv\n",
      "              10 File(s)         39,609 bytes\n",
      "              10 Dir(s)  88,749,297,664 bytes free\n"
     ]
    },
    {
     "name": "stderr",
     "output_type": "stream",
     "text": [
      "'DOSKEY' is not recognized as an internal or external command,\n",
      "operable program or batch file.\n"
     ]
    }
   ],
   "source": [
    "%ls"
   ]
  },
  {
   "cell_type": "code",
   "execution_count": 7,
   "id": "3c4abafe",
   "metadata": {},
   "outputs": [],
   "source": [
    "from dataclasses import dataclass\n",
    "from pathlib import Path\n",
    "\n",
    "@dataclass\n",
    "class ModelTrainerConfig:\n",
    "    root_dir: Path\n",
    "    train_data_path: Path\n",
    "    test_data_path: Path\n",
    "    model_name: str\n",
    "    alpha: float\n",
    "    l1_ratio: float\n",
    "    target_column: str"
   ]
  },
  {
   "cell_type": "code",
   "execution_count": 8,
   "id": "38821659",
   "metadata": {},
   "outputs": [],
   "source": [
    "from src.datascience.constants import *\n",
    "from src.datascience.utils.common import read_yaml, create_directories"
   ]
  },
  {
   "cell_type": "code",
   "execution_count": 12,
   "id": "5eb25ffe",
   "metadata": {},
   "outputs": [],
   "source": [
    "class ConfigurationManager:\n",
    "    def __init__(self,\n",
    "                config_file_path=CONFIG_FILE_PATH,\n",
    "                params_file_path=PARAMS_FILE_PATH,\n",
    "                schema_file_path=SCHEMA_FILE_PATH):\n",
    "        \n",
    "        self.config = read_yaml(config_file_path)\n",
    "        self.params = read_yaml(params_file_path)\n",
    "        self.schema = read_yaml(schema_file_path)\n",
    "\n",
    "        create_directories([self.config.artifacts_root])\n",
    "\n",
    "    def get_model_trainer_config(self) -> ModelTrainerConfig:\n",
    "        config = self.config.model_trainer\n",
    "        params = self.params.ElasticNet\n",
    "        schema = self.schema.TARGET_COLUMN\n",
    "\n",
    "        create_directories([config.root_dir])\n",
    "            \n",
    "        model_trainer_config = ModelTrainerConfig(\n",
    "            root_dir=config.root_dir,\n",
    "            train_data_path=config.train_data_path,\n",
    "            test_data_path=config.test_data_path,\n",
    "            model_name=config.model_name,\n",
    "            alpha=params.alpha,\n",
    "            l1_ratio=params.l1_ratio,\n",
    "            target_column=schema.name\n",
    "            )\n",
    "        return model_trainer_config\n"
   ]
  },
  {
   "cell_type": "code",
   "execution_count": 13,
   "id": "f654cd2f",
   "metadata": {},
   "outputs": [],
   "source": [
    "import pandas as pd \n",
    "import os\n",
    "from src.datascience import logger\n",
    "from sklearn.linear_model import ElasticNet\n",
    "import joblib"
   ]
  },
  {
   "cell_type": "code",
   "execution_count": 14,
   "id": "8c63f26c",
   "metadata": {},
   "outputs": [],
   "source": [
    "class ModelTrainer:\n",
    "    def __init__(self, config: ModelTrainerConfig):\n",
    "        self.config = config\n",
    "\n",
    "    def train(self):\n",
    "        train_data = pd.read_csv(self.config.train_data_path)\n",
    "        test_data = pd.read_csv(self.config.test_data_path)\n",
    "\n",
    "        train_X = train_data.drop(columns=[self.config.target_column], axis=1)\n",
    "        test_X = test_data.drop(columns=[self.config.target_column],axis=1)\n",
    "        train_y = train_data[[self.config.target_column]]\n",
    "        test_y = test_data[[self.config.target_column]]\n",
    "\n",
    "        lr = ElasticNet(\n",
    "            alpha=self.config.alpha,\n",
    "            l1_ratio=self.config.l1_ratio,\n",
    "            random_state=42\n",
    "        )\n",
    "        lr.fit(train_X,train_y)\n",
    "\n",
    "        joblib.dump(lr, os.path.join(self.config.root_dir,self.config.model_name))\n"
   ]
  },
  {
   "cell_type": "code",
   "execution_count": 15,
   "id": "2ef64cf9",
   "metadata": {},
   "outputs": [
    {
     "name": "stdout",
     "output_type": "stream",
     "text": [
      "[2025-05-21 01:31:06,213: INFO: common: Yaml File: config\\config.yaml loaded successfully]\n",
      "[2025-05-21 01:31:06,216: INFO: common: Yaml File: params.yaml loaded successfully]\n",
      "[2025-05-21 01:31:06,221: INFO: common: Yaml File: schema.yaml loaded successfully]\n",
      "[2025-05-21 01:31:06,223: INFO: common: Created Directory at: artifacts]\n",
      "[2025-05-21 01:31:06,225: INFO: common: Created Directory at: artifacts/model_trainer]\n"
     ]
    }
   ],
   "source": [
    "try:\n",
    "    config = ConfigurationManager()\n",
    "    model_train_config = config.get_model_trainer_config()\n",
    "    model_train = ModelTrainer(config=model_train_config)\n",
    "    model_train.train()\n",
    "except Exception as e:\n",
    "    raise e"
   ]
  },
  {
   "cell_type": "code",
   "execution_count": null,
   "id": "64358b5c",
   "metadata": {},
   "outputs": [],
   "source": []
  }
 ],
 "metadata": {
  "kernelspec": {
   "display_name": "Python 3",
   "language": "python",
   "name": "python3"
  },
  "language_info": {
   "codemirror_mode": {
    "name": "ipython",
    "version": 3
   },
   "file_extension": ".py",
   "mimetype": "text/x-python",
   "name": "python",
   "nbconvert_exporter": "python",
   "pygments_lexer": "ipython3",
   "version": "3.10.0"
  }
 },
 "nbformat": 4,
 "nbformat_minor": 5
}
